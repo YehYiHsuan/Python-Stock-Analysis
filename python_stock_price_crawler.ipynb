{
  "nbformat": 4,
  "nbformat_minor": 0,
  "metadata": {
    "colab": {
      "name": "python-stock-price-crawler.ipynb",
      "version": "0.3.2",
      "provenance": [],
      "collapsed_sections": [],
      "include_colab_link": true
    },
    "kernelspec": {
      "name": "python3",
      "display_name": "Python 3"
    }
  },
  "cells": [
    {
      "cell_type": "markdown",
      "metadata": {
        "id": "view-in-github",
        "colab_type": "text"
      },
      "source": [
        "<a href=\"https://colab.research.google.com/github/YehYiHsuan/Python-Stock-Analysis/blob/master/python_stock_price_crawler.ipynb\" target=\"_parent\"><img src=\"https://colab.research.google.com/assets/colab-badge.svg\" alt=\"Open In Colab\"/></a>"
      ]
    },
    {
      "cell_type": "code",
      "metadata": {
        "id": "eNhWUnGqfkis",
        "colab_type": "code",
        "colab": {}
      },
      "source": [
        "import pandas_datareader as pdr\n",
        "import pandas as pd"
      ],
      "execution_count": 0,
      "outputs": []
    },
    {
      "cell_type": "code",
      "metadata": {
        "id": "vXJp8MOffyD2",
        "colab_type": "code",
        "colab": {}
      },
      "source": [
        "#抓取股票歷史股價資料\n",
        "def stock_price_crawler(code,starttime,endtime):\n",
        "  for n in range(len(code)):\n",
        "    code[n]=code[n]+'.TW'\n",
        "  result={}\n",
        "  for no in code:\n",
        "    #print(no)\n",
        "    result[no[:-3]]=pdr.DataReader(no, 'yahoo', starttime, endtime)\n",
        "  return result"
      ],
      "execution_count": 0,
      "outputs": []
    },
    {
      "cell_type": "code",
      "metadata": {
        "id": "5iwjyPfogtJs",
        "colab_type": "code",
        "colab": {
          "base_uri": "https://localhost:8080/",
          "height": 194
        },
        "outputId": "d619ba0a-f790-4eb4-ad00-c4f6a3e20080"
      },
      "source": [
        "code=['2330','2331']\n",
        "result=stock_price_crawler(code,'2018-01-01','2019-01-01')\n",
        "\n",
        "obj={}\n",
        "for index,df in result.items():\n",
        "  obj[index]=df['Close']\n",
        "\n",
        "  \n",
        "df = pd.DataFrame.from_dict(obj,orient='index')\n",
        "df = df.sort_index()\n",
        "df"
      ],
      "execution_count": 25,
      "outputs": [
        {
          "output_type": "execute_result",
          "data": {
            "text/html": [
              "<div>\n",
              "<style scoped>\n",
              "    .dataframe tbody tr th:only-of-type {\n",
              "        vertical-align: middle;\n",
              "    }\n",
              "\n",
              "    .dataframe tbody tr th {\n",
              "        vertical-align: top;\n",
              "    }\n",
              "\n",
              "    .dataframe thead th {\n",
              "        text-align: right;\n",
              "    }\n",
              "</style>\n",
              "<table border=\"1\" class=\"dataframe\">\n",
              "  <thead>\n",
              "    <tr style=\"text-align: right;\">\n",
              "      <th></th>\n",
              "      <th>2018-01-02 00:00:00</th>\n",
              "      <th>2018-01-03 00:00:00</th>\n",
              "      <th>2018-01-04 00:00:00</th>\n",
              "      <th>2018-01-05 00:00:00</th>\n",
              "      <th>2018-01-08 00:00:00</th>\n",
              "      <th>2018-01-09 00:00:00</th>\n",
              "      <th>2018-01-10 00:00:00</th>\n",
              "      <th>2018-01-11 00:00:00</th>\n",
              "      <th>2018-01-12 00:00:00</th>\n",
              "      <th>2018-01-15 00:00:00</th>\n",
              "      <th>...</th>\n",
              "      <th>2018-12-18 00:00:00</th>\n",
              "      <th>2018-12-19 00:00:00</th>\n",
              "      <th>2018-12-20 00:00:00</th>\n",
              "      <th>2018-12-21 00:00:00</th>\n",
              "      <th>2018-12-24 00:00:00</th>\n",
              "      <th>2018-12-25 00:00:00</th>\n",
              "      <th>2018-12-26 00:00:00</th>\n",
              "      <th>2018-12-27 00:00:00</th>\n",
              "      <th>2018-12-28 00:00:00</th>\n",
              "      <th>2019-01-02 00:00:00</th>\n",
              "    </tr>\n",
              "  </thead>\n",
              "  <tbody>\n",
              "    <tr>\n",
              "      <th>2330</th>\n",
              "      <td>232.500000</td>\n",
              "      <td>237.000000</td>\n",
              "      <td>239.500000</td>\n",
              "      <td>240.0</td>\n",
              "      <td>242.000000</td>\n",
              "      <td>242.0</td>\n",
              "      <td>236.500000</td>\n",
              "      <td>235.00</td>\n",
              "      <td>237.000000</td>\n",
              "      <td>240.00</td>\n",
              "      <td>...</td>\n",
              "      <td>222.50</td>\n",
              "      <td>225.50</td>\n",
              "      <td>221.00</td>\n",
              "      <td>223.50</td>\n",
              "      <td>220.0</td>\n",
              "      <td>217.50</td>\n",
              "      <td>216.5</td>\n",
              "      <td>223.0</td>\n",
              "      <td>225.50</td>\n",
              "      <td>219.5</td>\n",
              "    </tr>\n",
              "    <tr>\n",
              "      <th>2331</th>\n",
              "      <td>19.799999</td>\n",
              "      <td>19.799999</td>\n",
              "      <td>19.799999</td>\n",
              "      <td>19.6</td>\n",
              "      <td>19.049999</td>\n",
              "      <td>19.1</td>\n",
              "      <td>18.700001</td>\n",
              "      <td>18.35</td>\n",
              "      <td>18.549999</td>\n",
              "      <td>18.85</td>\n",
              "      <td>...</td>\n",
              "      <td>12.45</td>\n",
              "      <td>12.45</td>\n",
              "      <td>12.35</td>\n",
              "      <td>12.15</td>\n",
              "      <td>12.6</td>\n",
              "      <td>12.35</td>\n",
              "      <td>12.2</td>\n",
              "      <td>12.2</td>\n",
              "      <td>12.35</td>\n",
              "      <td>12.2</td>\n",
              "    </tr>\n",
              "  </tbody>\n",
              "</table>\n",
              "<p>2 rows × 246 columns</p>\n",
              "</div>"
            ],
            "text/plain": [
              "      2018-01-02  2018-01-03  2018-01-04  2018-01-05  2018-01-08  2018-01-09  \\\n",
              "2330  232.500000  237.000000  239.500000       240.0  242.000000       242.0   \n",
              "2331   19.799999   19.799999   19.799999        19.6   19.049999        19.1   \n",
              "\n",
              "      2018-01-10  2018-01-11  2018-01-12  2018-01-15  ...  2018-12-18  \\\n",
              "2330  236.500000      235.00  237.000000      240.00  ...      222.50   \n",
              "2331   18.700001       18.35   18.549999       18.85  ...       12.45   \n",
              "\n",
              "      2018-12-19  2018-12-20  2018-12-21  2018-12-24  2018-12-25  2018-12-26  \\\n",
              "2330      225.50      221.00      223.50       220.0      217.50       216.5   \n",
              "2331       12.45       12.35       12.15        12.6       12.35        12.2   \n",
              "\n",
              "      2018-12-27  2018-12-28  2019-01-02  \n",
              "2330       223.0      225.50       219.5  \n",
              "2331        12.2       12.35        12.2  \n",
              "\n",
              "[2 rows x 246 columns]"
            ]
          },
          "metadata": {
            "tags": []
          },
          "execution_count": 25
        }
      ]
    }
  ]
}